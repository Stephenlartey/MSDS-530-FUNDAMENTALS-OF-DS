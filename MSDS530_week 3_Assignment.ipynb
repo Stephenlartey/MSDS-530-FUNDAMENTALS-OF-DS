{
 "cells": [
  {
   "cell_type": "code",
   "execution_count": 1,
   "id": "c622d381",
   "metadata": {},
   "outputs": [
    {
     "data": {
      "text/plain": [
       "'\\nMSDS 530 (FUNDAMENTALS OF DATA SCIENCE-FALL 2023 FULL TERM)\\nWEEK 2 ASSIGNMENT\\nTOPIC: SCALES OF MEASUREMENT\\nDATE: SEPTEMBER 14, 2023\\nSTUDENT/AUTHOR: STEPHEN SARPONG LARTEY\\nSTUDENT ID: 005015848\\nCOURSE INSTRUCTOR: ALI MOTAMEDI\\n'"
      ]
     },
     "execution_count": 1,
     "metadata": {},
     "output_type": "execute_result"
    }
   ],
   "source": [
    "\"\"\"\n",
    "MSDS 530 (FUNDAMENTALS OF DATA SCIENCE-FALL 2023 FULL TERM)\n",
    "WEEK 3 ASSIGNMENT\n",
    "TOPIC: BIVARIATE DESCRIPTIVE STATISTICS\n",
    "DATE: SEPTEMBER 14, 2023\n",
    "STUDENT/AUTHOR: STEPHEN SARPONG LARTEY\n",
    "STUDENT ID: 005015848\n",
    "COURSE INSTRUCTOR: DR. ALI MOTAMEDI\n",
    "\"\"\""
   ]
  },
  {
   "cell_type": "code",
   "execution_count": 2,
   "id": "89eea24c",
   "metadata": {},
   "outputs": [
    {
     "name": "stdout",
     "output_type": "stream",
     "text": [
      "Requirement already satisfied: pandas in c:\\users\\stevl\\anaconda3\\lib\\site-packages (1.5.3)\n",
      "Requirement already satisfied: numpy>=1.21.0 in c:\\users\\stevl\\anaconda3\\lib\\site-packages (from pandas) (1.23.5)\n",
      "Requirement already satisfied: pytz>=2020.1 in c:\\users\\stevl\\anaconda3\\lib\\site-packages (from pandas) (2022.7)\n",
      "Requirement already satisfied: python-dateutil>=2.8.1 in c:\\users\\stevl\\anaconda3\\lib\\site-packages (from pandas) (2.8.2)\n",
      "Requirement already satisfied: six>=1.5 in c:\\users\\stevl\\anaconda3\\lib\\site-packages (from python-dateutil>=2.8.1->pandas) (1.16.0)\n",
      "Note: you may need to restart the kernel to use updated packages.\n"
     ]
    }
   ],
   "source": [
    "pip install pandas"
   ]
  },
  {
   "cell_type": "code",
   "execution_count": 20,
   "id": "c2a6c039",
   "metadata": {},
   "outputs": [],
   "source": [
    "import pandas as pd\n",
    "import numpy as np\n",
    "import statistics\n",
    "import matplotlib.pyplot as plt"
   ]
  },
  {
   "cell_type": "code",
   "execution_count": 4,
   "id": "ce7fa079",
   "metadata": {},
   "outputs": [],
   "source": [
    "from scipy.stats import chi2_contingency"
   ]
  },
  {
   "cell_type": "code",
   "execution_count": 5,
   "id": "2fa6ccf4",
   "metadata": {},
   "outputs": [],
   "source": [
    "path = r\"C:\\Users\\stevl\\OneDrive\\Desktop\\UoC Lectures\\MSDS 530-FUNDAMENTALS OF DS\\Week 2\\MSDSWeek2Assignment.xlsx\"\n",
    "df = pd.read_excel(path)"
   ]
  },
  {
   "cell_type": "code",
   "execution_count": 6,
   "id": "e879cd74",
   "metadata": {},
   "outputs": [
    {
     "name": "stdout",
     "output_type": "stream",
     "text": [
      "Index(['Customer ID', 'Gender ', 'Age ', 'Educational Level',\n",
      "       'Purchase Amount '],\n",
      "      dtype='object')\n"
     ]
    }
   ],
   "source": [
    "print(df.columns)"
   ]
  },
  {
   "cell_type": "code",
   "execution_count": 7,
   "id": "d1ff8a82",
   "metadata": {},
   "outputs": [
    {
     "name": "stdout",
     "output_type": "stream",
     "text": [
      "Index(['Customer ID', 'Gender', 'Age', 'Educational Level', 'Purchase Amount'], dtype='object')\n"
     ]
    }
   ],
   "source": [
    "# Remove trailing spaces from column names\n",
    "df.columns = df.columns.str.strip()\n",
    "\n",
    "# Verify the cleaned column names\n",
    "print(df.columns)"
   ]
  },
  {
   "cell_type": "code",
   "execution_count": 8,
   "id": "f3b83fb5",
   "metadata": {},
   "outputs": [
    {
     "name": "stdout",
     "output_type": "stream",
     "text": [
      "   Customer ID  Gender Educational Level\n",
      "0            1  Female       High School\n",
      "1            2    Male           College\n",
      "2            3  Female          Graduate\n",
      "3            4    Male           College\n",
      "4            5  Female           College\n"
     ]
    }
   ],
   "source": [
    "# Drop the 'Age' and 'Purchase Amount' columns to keep only the qualitative variables\n",
    "qualitative_data = df.drop(['Age', 'Purchase Amount'], axis=1)\n",
    "# Display the resulting DataFrame\n",
    "print(qualitative_data.head())"
   ]
  },
  {
   "cell_type": "code",
   "execution_count": 11,
   "id": "773efa8d",
   "metadata": {},
   "outputs": [
    {
     "data": {
      "text/html": [
       "<div>\n",
       "<style scoped>\n",
       "    .dataframe tbody tr th:only-of-type {\n",
       "        vertical-align: middle;\n",
       "    }\n",
       "\n",
       "    .dataframe tbody tr th {\n",
       "        vertical-align: top;\n",
       "    }\n",
       "\n",
       "    .dataframe thead th {\n",
       "        text-align: right;\n",
       "    }\n",
       "</style>\n",
       "<table border=\"1\" class=\"dataframe\">\n",
       "  <thead>\n",
       "    <tr style=\"text-align: right;\">\n",
       "      <th>Educational Level</th>\n",
       "      <th>College</th>\n",
       "      <th>Graduate</th>\n",
       "      <th>High School</th>\n",
       "    </tr>\n",
       "    <tr>\n",
       "      <th>Gender</th>\n",
       "      <th></th>\n",
       "      <th></th>\n",
       "      <th></th>\n",
       "    </tr>\n",
       "  </thead>\n",
       "  <tbody>\n",
       "    <tr>\n",
       "      <th>Female</th>\n",
       "      <td>17</td>\n",
       "      <td>3</td>\n",
       "      <td>5</td>\n",
       "    </tr>\n",
       "    <tr>\n",
       "      <th>Male</th>\n",
       "      <td>11</td>\n",
       "      <td>6</td>\n",
       "      <td>8</td>\n",
       "    </tr>\n",
       "  </tbody>\n",
       "</table>\n",
       "</div>"
      ],
      "text/plain": [
       "Educational Level  College  Graduate  High School\n",
       "Gender                                           \n",
       "Female                  17         3            5\n",
       "Male                    11         6            8"
      ]
     },
     "execution_count": 11,
     "metadata": {},
     "output_type": "execute_result"
    }
   ],
   "source": [
    "# Now, create a contingency table\n",
    "contingency_table = pd.crosstab(qualitative_data['Gender'], qualitative_data['Educational Level'])\n",
    "contingency_table"
   ]
  },
  {
   "cell_type": "code",
   "execution_count": 13,
   "id": "7d90a4ef",
   "metadata": {},
   "outputs": [
    {
     "name": "stdout",
     "output_type": "stream",
     "text": [
      "Educational Level  College  Graduate  High School  Total\n",
      "Gender                                                  \n",
      "Female                  17         3            5     25\n",
      "Male                    11         6            8     25\n",
      "Total                   28         9           13     50\n"
     ]
    }
   ],
   "source": [
    "# Adding a \"Total\" column to the dataframe\n",
    "contingency_table = pd.crosstab(qualitative_data['Gender'], qualitative_data['Educational Level'], margins=True, margins_name=\"Total\")\n",
    "\n",
    "# Display the contingency table with the \"Total\" column\n",
    "print(contingency_table)\n"
   ]
  },
  {
   "cell_type": "code",
   "execution_count": 15,
   "id": "6cfde13a",
   "metadata": {},
   "outputs": [
    {
     "name": "stdout",
     "output_type": "stream",
     "text": [
      "Contingency Table:\n",
      "Educational Level  College  Graduate  High School  Total\n",
      "Gender                                                  \n",
      "Female                  17         3            5     25\n",
      "Male                    11         6            8     25\n",
      "Total                   28         9           13     50\n",
      "\n",
      "Chi-Squared Statistic: 2.978021978021978\n",
      "p-value: 0.811600212405171\n"
     ]
    }
   ],
   "source": [
    "# Performing the chi-squared test\n",
    "chi2, p, _, _ = chi2_contingency(contingency_table)\n",
    "\n",
    "# Printing the results\n",
    "print(\"Contingency Table:\")\n",
    "print(contingency_table)\n",
    "print(\"\\nChi-Squared Statistic:\", chi2)\n",
    "print(\"p-value:\", p)"
   ]
  },
  {
   "cell_type": "code",
   "execution_count": 16,
   "id": "6284710b",
   "metadata": {},
   "outputs": [
    {
     "name": "stdout",
     "output_type": "stream",
     "text": [
      "There is no statistically significant association between Gender and Education Level.\n"
     ]
    }
   ],
   "source": [
    "# Interpreting the results based on the p-value\n",
    "if p < 0.05:\n",
    "    print(\"There is a statistically significant association between Gender and Educational Level.\")\n",
    "else:\n",
    "    print(\"There is no statistically significant association between Gender and Education Level.\")"
   ]
  },
  {
   "cell_type": "code",
   "execution_count": 19,
   "id": "50866331",
   "metadata": {},
   "outputs": [
    {
     "name": "stdout",
     "output_type": "stream",
     "text": [
      "Correlation between Age and Purchase Amount: 0.7613897894495428\n"
     ]
    }
   ],
   "source": [
    "# Calculating the correlation between 'Age' and 'Purchase Amount'\n",
    "correlation = df['Age'].corr(df['Purchase Amount'])\n",
    "\n",
    "# Display the correlation coefficient between the two quantitative variables\n",
    "print(\"Correlation between Age and Purchase Amount:\", correlation)"
   ]
  },
  {
   "cell_type": "code",
   "execution_count": 22,
   "id": "528b2157",
   "metadata": {},
   "outputs": [
    {
     "data": {
      "image/png": "[encoded data removed]",
      "text/plain": [
       "<Figure size 600x400 with 1 Axes>"
      ]
     },
     "metadata": {},
     "output_type": "display_data"
    }
   ],
   "source": [
    "# Create a scatter plot to visualize the relationship\n",
    "plt.figure(figsize=(6, 4))\n",
    "plt.scatter(df['Age'], df['Purchase Amount'], alpha=0.5)\n",
    "plt.title(\"Scatter Plot of Age and Purchase Amount\")\n",
    "plt.xlabel(\"Age\")\n",
    "plt.ylabel(\"Purchase Amount\")\n",
    "plt.grid(True)\n",
    "plt.show()"
   ]
  },
  {
   "cell_type": "code",
   "execution_count": null,
   "id": "b71b59dd",
   "metadata": {},
   "outputs": [],
   "source": []
  }
 ],
 "metadata": {
  "kernelspec": {
   "display_name": "Python 3 (ipykernel)",
   "language": "python",
   "name": "python3"
  },
  "language_info": {
   "codemirror_mode": {
    "name": "ipython",
    "version": 3
   },
   "file_extension": ".py",
   "mimetype": "text/x-python",
   "name": "python",
   "nbconvert_exporter": "python",
   "pygments_lexer": "ipython3",
   "version": "3.10.9"
  }
 },
 "nbformat": 4,
 "nbformat_minor": 5
}
